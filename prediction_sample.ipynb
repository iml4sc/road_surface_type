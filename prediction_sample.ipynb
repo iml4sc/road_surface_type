{
 "cells": [
  {
   "cell_type": "markdown",
   "metadata": {},
   "source": [
    "# Prepare sample dataset"
   ]
  },
  {
   "cell_type": "code",
   "execution_count": null,
   "metadata": {},
   "outputs": [],
   "source": [
    "%cd prediction_scripts"
   ]
  },
  {
   "cell_type": "code",
   "execution_count": null,
   "metadata": {},
   "outputs": [],
   "source": [
    "!pip install gdown"
   ]
  },
  {
   "cell_type": "code",
   "execution_count": null,
   "metadata": {},
   "outputs": [],
   "source": [
    "import gdown\n",
    "import shutil\n",
    "import os\n",
    "import subprocess\n",
    "url = 'https://drive.google.com/uc?id=1Ss8_748_SQ-wTsFJge1yz5npCRp9I53Z'\n",
    "output_zip = './samples.zip'\n",
    "subprocess.run(['gdown', url, '--output', output_zip], check=True)\n",
    "shutil.unpack_archive(output_zip, './')\n",
    "os.remove(output_zip)\n",
    "\n",
    "print(\"Model and Sample dataset download and extraction complete.\")"
   ]
  },
  {
   "cell_type": "code",
   "execution_count": null,
   "metadata": {},
   "outputs": [],
   "source": [
    "%cd input\n",
    "!python ./csv_to_json.py --csv-path ./TEST_all_3type.csv --output-json ./input_geopose.json\n",
    "%cd .."
   ]
  },
  {
   "cell_type": "markdown",
   "metadata": {},
   "source": [
    "# Prediction"
   ]
  },
  {
   "cell_type": "code",
   "execution_count": null,
   "metadata": {},
   "outputs": [],
   "source": [
    "!python predict_main.py \\\n",
    "    --geopose-json input/input_geopose.json \\\n",
    "    --model-path ./results/resnet152v2_full/resnet152v2_model_70p_best.pth \\\n",
    "    --output-dir prediction_results_resnet152v2 \\\n",
    "    --device cuda"
   ]
  },
  {
   "cell_type": "code",
   "execution_count": null,
   "metadata": {},
   "outputs": [],
   "source": [
    "import json\n",
    "file_path = \"prediction_results_resnet152v2/prediction_00001.json\"\n",
    "with open(file_path, \"r\", encoding=\"utf-8\") as f:\n",
    "    data = json.load(f)\n",
    "print(json.dumps(data, indent=4, ensure_ascii=False))"
   ]
  }
 ],
 "metadata": {
  "kernelspec": {
   "display_name": "torr",
   "language": "python",
   "name": "python3"
  },
  "language_info": {
   "codemirror_mode": {
    "name": "ipython",
    "version": 3
   },
   "file_extension": ".py",
   "mimetype": "text/x-python",
   "name": "python",
   "nbconvert_exporter": "python",
   "pygments_lexer": "ipython3",
   "version": "3.9.19"
  }
 },
 "nbformat": 4,
 "nbformat_minor": 2
}
